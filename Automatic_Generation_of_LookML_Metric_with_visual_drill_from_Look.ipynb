{
  "cells": [
    {
      "cell_type": "markdown",
      "metadata": {
        "id": "uVFbvrN2lnPU"
      },
      "source": [
        "# PROJECT\n",
        "\n",
        "project description\n",
        "\n",
        "References used\n",
        "\n",
        "Visual drill\n",
        "https://cloud.google.com/looker/docs/best-practices/how-to-use-more-powerful-data-drilling\n",
        "\n",
        "instructions to code visual drilling\n",
        "https://www.googlecloudcommunity.com/gc/Exploring-Curating-Data/How-to-get-visualization-configurations-for-custom-drilling/td-p/592014\n",
        "\n",
        "Looker python SDK tutorial (Instructions and code cells taken from this notebook)\n",
        "https://colab.research.google.com/github/looker-open-source/sdk-codegen/blob/main/python/python-sdk-tutorial.ipynb#scrollTo=vEbO5uuFQnSn\n",
        "\n"
      ]
    },
    {
      "cell_type": "markdown",
      "metadata": {
        "id": "IYXK_QYAlpE-"
      },
      "source": [
        "# Installing Looker SDK\n",
        "We'll install the latest looker_sdk from [pypi](https://pypi.org/project/looker-sdk/).\n",
        "\n"
      ]
    },
    {
      "cell_type": "code",
      "execution_count": null,
      "metadata": {
        "id": "2MVc2mTwltae"
      },
      "outputs": [],
      "source": [
        "%%capture\n",
        "!pip install looker_sdk"
      ]
    },
    {
      "cell_type": "code",
      "execution_count": null,
      "metadata": {
        "id": "x9aokkzwogFe"
      },
      "outputs": [],
      "source": [
        "import looker_sdk\n",
        "import os # We import os here in order to manage environment variables.\n",
        "import json\n",
        "import vertexai\n",
        "from vertexai.preview.generative_models import GenerativeModel, GenerationConfig\n",
        "import configparser\n",
        "import urllib.parse\n",
        "import re"
      ]
    },
    {
      "cell_type": "markdown",
      "metadata": {
        "id": "25gT1y7Ml4vH"
      },
      "source": [
        "# Configuring & Initializing the SDK\n",
        "Environment variables to configure the SDK.\n",
        "\n"
      ]
    },
    {
      "cell_type": "code",
      "execution_count": null,
      "metadata": {
        "id": "SOp9JZxPm4pM",
        "colab": {
          "base_uri": "https://localhost:8080/"
        },
        "outputId": "5c479b9c-7154-495d-e137-267324fa350e"
      },
      "outputs": [
        {
          "output_type": "stream",
          "name": "stdout",
          "text": [
            "All environment variables set.\n"
          ]
        }
      ],
      "source": [
        "from google.colab import userdata\n",
        "\n",
        "\n",
        "os.environ[\"LOOKERSDK_BASE_URL\"] = \"https://hack.looker.com:19999\" #If your looker URL has .cloud in it (hosted on GCP), do not include :19999 (ie: https://your.cloud.looker.com).\n",
        "os.environ[\"LOOKERSDK_API_VERSION\"] = \"4.0\" #As of Looker v23.18+, the 3.0 and 3.1 versions of the API are removed. Use \"4.0\" here.\n",
        "os.environ[\"LOOKERSDK_VERIFY_SSL\"] = \"true\" #Defaults to true if not set. SSL verification should generally be on unless you have a real good reason not to use it. Valid options: true, y, t, yes, 1.\n",
        "os.environ[\"LOOKERSDK_TIMEOUT\"] = \"120\" #Seconds till request timeout. Standard default is 120.\n",
        "\n",
        "#Get the following values from your Users page in the Admin panel of your Looker instance > Users > Your user > Edit API keys. If you know your user id, you can visit https://your.looker.com/admin/users/<your_user_id>/edit.\n",
        "os.environ[\"LOOKERSDK_CLIENT_ID\"] =  userdata.get('LOOKERSDK_CLIENT_ID') # Provided by Looker hackathon org team\n",
        "os.environ[\"LOOKERSDK_CLIENT_SECRET\"] = userdata.get('LOOKERSDK_CLIENT_SECRET') # Provided by Looker hackathon org team\n",
        "\n",
        "print(\"All environment variables set.\")"
      ]
    },
    {
      "cell_type": "code",
      "execution_count": null,
      "metadata": {
        "id": "3fql8YPho2Y1",
        "colab": {
          "base_uri": "https://localhost:8080/"
        },
        "outputId": "4062eff3-63a3-43c5-8a9a-a0e8a5aa9f83"
      },
      "outputs": [
        {
          "output_type": "stream",
          "name": "stdout",
          "text": [
            "Looker SDK 4.0 initialized successfully.\n"
          ]
        }
      ],
      "source": [
        "sdk = looker_sdk.init40()\n",
        "print('Looker SDK 4.0 initialized successfully.')"
      ]
    },
    {
      "cell_type": "markdown",
      "metadata": {
        "id": "D4iTt1aXtRWv"
      },
      "source": [
        "# APP: LookML metric with visual drill\n",
        "It usually helps to mock up the flow of an App/script before diving into code. In this case, our mission is to take the output of one Look and pipe it into the filters of a second Look. That means it'll look something like this:\n",
        "\n",
        "1. Enter Look ID\n",
        "\n",
        "Let's take it item by item."
      ]
    },
    {
      "cell_type": "code",
      "execution_count": null,
      "metadata": {
        "id": "pe7_WzZVFENp",
        "colab": {
          "base_uri": "https://localhost:8080/"
        },
        "cellView": "form",
        "outputId": "d47dba7f-443c-4568-da87-58387146f952"
      },
      "outputs": [
        {
          "output_type": "stream",
          "name": "stdout",
          "text": [
            "Look ID selected: 66.\n",
            "\n",
            "Look Summary: \n",
            "\n",
            "[{'flights.states': 'TX', 'flights.count': 482}, {'flights.states': 'OK', 'flights.count': 132}, {'flights.states': 'AR', 'flights.count': 76}, {'flights.states': 'LA', 'flights.count': 29}]\n"
          ]
        }
      ],
      "source": [
        "#@title Look ID\n",
        "#@markdown Enter a look ID (`look_id`) that you want to apply as visual drill.\n",
        "\n",
        "#@markdown If your URL is https://your.cloud.looker.com/looks/25, your Look ID is 25.\n",
        "#@markdown The Look can have pivots and filters.\n",
        "\n",
        "look_id = \"66\" #@param {type:\"string\"}\n",
        "title = \"Hackathon Metric Visual Drill\" #@param {type:\"string\"}\n",
        "\n",
        "look = sdk.look(look_id=look_id)\n",
        "query = look.query # Look query\n",
        "\n",
        "print(f\"Look ID selected: {look.id}.\\n\")\n",
        "\n",
        "print ('Look Summary: \\n')\n",
        "try:\n",
        "  response = sdk.run_look(\n",
        "    look_id=look.id,\n",
        "    result_format= \"json\" # Options here are csv, json, json_detail, txt, html, md, xlsx, sql (returns the raw query), png, jpg. JSON is the easiest to work with in python, so we return it.\n",
        "  )\n",
        "  data = json.loads(response) #The response is just a string, so we have to use the json library to load it as a json dict.\n",
        "  print(data) #If our query was successful we should see an array of rows.\n",
        "except:\n",
        "  raise Exception(f'Error running look {look.id}')"
      ]
    },
    {
      "cell_type": "markdown",
      "source": [
        "# APP Code"
      ],
      "metadata": {
        "id": "R-7B7CW7JF95"
      }
    },
    {
      "cell_type": "markdown",
      "metadata": {
        "id": "ymgP3A-zwWEj"
      },
      "source": [
        "**1. Get params #1 from Look #1**\n",
        "\n",
        "Example Look created in hack Looker instance:\n",
        "https://hack.looker.com/looks/60\n",
        "\n",
        "More complex example (with pivots and filters)\n",
        "https://hack.looker.com/looks/61\n"
      ]
    },
    {
      "cell_type": "code",
      "source": [
        "def vis_config_formatter(query_vis_config):\n",
        "    # extracting the vis_params from json string\n",
        "    json_string = json.dumps(query_vis_config)\n",
        "    # formatting, adapt to lookML\n",
        "    vis_params_from_json = json_string.replace(\",\", \",\\n\")\n",
        "    vis_params_from_json = vis_params_from_json.replace('\"', '\\\\\"')\n",
        "    return vis_params_from_json[1:-1]"
      ],
      "metadata": {
        "id": "VuRugaYxrBW5"
      },
      "execution_count": null,
      "outputs": []
    },
    {
      "cell_type": "code",
      "source": [
        "def filters_dict_to_link(filters):\n",
        "    output_string = \"\"\n",
        "    for key, value in filters.items():\n",
        "      # Escape any dots in the key for f-string formatting\n",
        "      output_string += f\"f[{key}]={value}&\"\n",
        "    # Remove the trailing ampersand (&)\n",
        "    output_string = output_string[:-1]\n",
        "    return output_string"
      ],
      "metadata": {
        "id": "70Sy3x2uiOVA"
      },
      "execution_count": null,
      "outputs": []
    },
    {
      "cell_type": "code",
      "source": [
        "def tail_builder(filters = {}, pivots = []):\n",
        "    tail = '&toggle=dat,pik,vis&limit=5000'\n",
        "    if not pivots:\n",
        "        pivots = []\n",
        "    if not filters:\n",
        "        filters = {}\n",
        "    pivots_string = \",\".join(map(str, pivots))\n",
        "    head_pivots = '&pivots=' + pivots_string\n",
        "    head_filter = '&' + filters_dict_to_link(filters)\n",
        "    if pivots and not filters:\n",
        "        tail = head_pivots + tail\n",
        "    if filters and not pivots:\n",
        "        tail = head_filter + tail\n",
        "    if filters and pivots:\n",
        "        tail = head_pivots + head_filter + tail\n",
        "    return tail"
      ],
      "metadata": {
        "id": "L0XslwoBHRuC"
      },
      "execution_count": null,
      "outputs": []
    },
    {
      "cell_type": "code",
      "source": [
        "def link_builder(label, vis_params, filters=None, pivots=None):\n",
        "\n",
        "    tail = tail_builder(filters, pivots)\n",
        "\n",
        "    template_link = f\"\"\"link: {{\n",
        "    label: \"{label}\"\n",
        "    url: \"\n",
        "    {{% assign vis_config = '{{\n",
        "    {vis_params}\n",
        "    }}' %}}\n",
        "    {{{{ link }}}}&vis_config={{{{ vis_config | encode_uri }}}}{tail}\"\n",
        "    }}\n",
        "    \"\"\"\n",
        "    link = template_link\n",
        "    return link"
      ],
      "metadata": {
        "id": "guK3ZCvvDc39"
      },
      "execution_count": null,
      "outputs": []
    },
    {
      "cell_type": "code",
      "source": [
        "vis_params = vis_config_formatter(query.vis_config)\n",
        "#print(vis_params)"
      ],
      "metadata": {
        "id": "Ldx_90Wn4l1z"
      },
      "execution_count": null,
      "outputs": []
    },
    {
      "cell_type": "code",
      "source": [
        "link = link_builder(title, vis_params, pivots=query.pivots, filters=query.filters)\n",
        "print(link)"
      ],
      "metadata": {
        "colab": {
          "base_uri": "https://localhost:8080/"
        },
        "id": "ML_7Z4kWEKm7",
        "outputId": "7e04c359-af8b-433d-b29d-d2417a9c2f28"
      },
      "execution_count": null,
      "outputs": [
        {
          "output_type": "stream",
          "name": "stdout",
          "text": [
            "link: {\n",
            "    label: \"Hackathon Metric Visual Drill\"\n",
            "    url: \"\n",
            "    {% assign vis_config = '{\n",
            "    \\\"value_labels\\\": \\\"legend\\\",\n",
            " \\\"label_type\\\": \\\"labPer\\\",\n",
            " \\\"x_axis_gridlines\\\": false,\n",
            " \\\"y_axis_gridlines\\\": true,\n",
            " \\\"show_view_names\\\": false,\n",
            " \\\"show_y_axis_labels\\\": true,\n",
            " \\\"show_y_axis_ticks\\\": true,\n",
            " \\\"y_axis_tick_density\\\": \\\"default\\\",\n",
            " \\\"y_axis_tick_density_custom\\\": 5,\n",
            " \\\"show_x_axis_label\\\": true,\n",
            " \\\"show_x_axis_ticks\\\": true,\n",
            " \\\"y_axis_scale_mode\\\": \\\"linear\\\",\n",
            " \\\"x_axis_reversed\\\": false,\n",
            " \\\"y_axis_reversed\\\": false,\n",
            " \\\"plot_size_by_field\\\": false,\n",
            " \\\"x_axis_zoom\\\": true,\n",
            " \\\"y_axis_zoom\\\": true,\n",
            " \\\"trellis\\\": \\\"\\\",\n",
            " \\\"stacking\\\": \\\"percent\\\",\n",
            " \\\"limit_displayed_rows\\\": false,\n",
            " \\\"legend_position\\\": \\\"center\\\",\n",
            " \\\"series_types\\\": {},\n",
            " \\\"point_style\\\": \\\"none\\\",\n",
            " \\\"series_labels\\\": {},\n",
            " \\\"show_value_labels\\\": false,\n",
            " \\\"label_density\\\": 25,\n",
            " \\\"x_axis_scale\\\": \\\"auto\\\",\n",
            " \\\"y_axis_combined\\\": true,\n",
            " \\\"ordering\\\": \\\"none\\\",\n",
            " \\\"show_null_labels\\\": false,\n",
            " \\\"show_totals_labels\\\": false,\n",
            " \\\"show_silhouette\\\": false,\n",
            " \\\"totals_color\\\": \\\"#808080\\\",\n",
            " \\\"type\\\": \\\"looker_pie\\\",\n",
            " \\\"defaults_version\\\": 1,\n",
            " \\\"hidden_pivots\\\": {},\n",
            " \\\"hidden_fields\\\": [],\n",
            " \\\"hidden_points_if_no\\\": []\n",
            "    }' %}\n",
            "    {{ link }}&vis_config={{ vis_config | encode_uri }}&f[flights.states]=TX,AR,LA,OK&toggle=dat,pik,vis&limit=5000\"\n",
            "    }\n",
            "    \n"
          ]
        }
      ]
    },
    {
      "cell_type": "code",
      "source": [
        "def metric_builder(fields):\n",
        "\n",
        "    link = link_builder(title, vis_params, pivots=query.pivots, filters=query.filters)\n",
        "\n",
        "    metric_template = f\"\"\"measure: metric_with_visual_drill {{\n",
        "        type: count\n",
        "        label: \"{title}\"\n",
        "        drill_fields: [{\", \".join(fields)}]\n",
        "        {link}\n",
        "      }}\"\"\"\n",
        "\n",
        "    return metric_template.replace('.count','.metric_with_visual_drill')"
      ],
      "metadata": {
        "id": "Z5rxUJQVoIeE"
      },
      "execution_count": null,
      "outputs": []
    },
    {
      "cell_type": "markdown",
      "source": [
        "# OUTPUT METRIC\n",
        "\n"
      ],
      "metadata": {
        "id": "lcQKf_oCqp7j"
      }
    },
    {
      "cell_type": "code",
      "source": [
        "metric = metric_builder(query.fields)\n",
        "print(metric)"
      ],
      "metadata": {
        "colab": {
          "base_uri": "https://localhost:8080/"
        },
        "id": "vXLYayS9pMYF",
        "outputId": "a27629a2-e74d-4559-bfff-c4827ef2a04f"
      },
      "execution_count": null,
      "outputs": [
        {
          "output_type": "stream",
          "name": "stdout",
          "text": [
            "measure: metric_with_visual_drill {\n",
            "        type: count\n",
            "        label: \"Hackathon Metric Visual Drill\"\n",
            "        drill_fields: [flights.metric_with_visual_drill, flights.states]\n",
            "        link: {\n",
            "    label: \"Hackathon Metric Visual Drill\"\n",
            "    url: \"\n",
            "    {% assign vis_config = '{\n",
            "    \\\"value_labels\\\": \\\"legend\\\",\n",
            " \\\"label_type\\\": \\\"labPer\\\",\n",
            " \\\"x_axis_gridlines\\\": false,\n",
            " \\\"y_axis_gridlines\\\": true,\n",
            " \\\"show_view_names\\\": false,\n",
            " \\\"show_y_axis_labels\\\": true,\n",
            " \\\"show_y_axis_ticks\\\": true,\n",
            " \\\"y_axis_tick_density\\\": \\\"default\\\",\n",
            " \\\"y_axis_tick_density_custom\\\": 5,\n",
            " \\\"show_x_axis_label\\\": true,\n",
            " \\\"show_x_axis_ticks\\\": true,\n",
            " \\\"y_axis_scale_mode\\\": \\\"linear\\\",\n",
            " \\\"x_axis_reversed\\\": false,\n",
            " \\\"y_axis_reversed\\\": false,\n",
            " \\\"plot_size_by_field\\\": false,\n",
            " \\\"x_axis_zoom\\\": true,\n",
            " \\\"y_axis_zoom\\\": true,\n",
            " \\\"trellis\\\": \\\"\\\",\n",
            " \\\"stacking\\\": \\\"percent\\\",\n",
            " \\\"limit_displayed_rows\\\": false,\n",
            " \\\"legend_position\\\": \\\"center\\\",\n",
            " \\\"series_types\\\": {},\n",
            " \\\"point_style\\\": \\\"none\\\",\n",
            " \\\"series_labels\\\": {},\n",
            " \\\"show_value_labels\\\": false,\n",
            " \\\"label_density\\\": 25,\n",
            " \\\"x_axis_scale\\\": \\\"auto\\\",\n",
            " \\\"y_axis_combined\\\": true,\n",
            " \\\"ordering\\\": \\\"none\\\",\n",
            " \\\"show_null_labels\\\": false,\n",
            " \\\"show_totals_labels\\\": false,\n",
            " \\\"show_silhouette\\\": false,\n",
            " \\\"totals_color\\\": \\\"#808080\\\",\n",
            " \\\"type\\\": \\\"looker_pie\\\",\n",
            " \\\"defaults_version\\\": 1,\n",
            " \\\"hidden_pivots\\\": {},\n",
            " \\\"hidden_fields\\\": [],\n",
            " \\\"hidden_points_if_no\\\": []\n",
            "    }' %}\n",
            "    {{ link }}&vis_config={{ vis_config | encode_uri }}&f[flights.states]=TX,AR,LA,OK&toggle=dat,pik,vis&limit=5000\"\n",
            "    }\n",
            "    \n",
            "      }\n"
          ]
        }
      ]
    }
  ],
  "metadata": {
    "colab": {
      "provenance": []
    },
    "kernelspec": {
      "display_name": "Python 3",
      "name": "python3"
    }
  },
  "nbformat": 4,
  "nbformat_minor": 0
}